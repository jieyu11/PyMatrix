{
 "cells": [
  {
   "cell_type": "code",
   "execution_count": null,
   "metadata": {},
   "outputs": [],
   "source": [
    "from nn import Linear, Sigmoid, Relu, Softmax\n",
    "from loss import MultiCrossEntropyLoss\n",
    "from network import NeuralNet\n",
    "import numpy as np\n",
    "import logging\n",
    "logging.basicConfig(format=\"%(asctime)s %(levelname)s: %(message)s\",\n",
    "                    level=logging.INFO)\n",
    "logger = logging.getLogger(__name__)"
   ]
  },
  {
   "cell_type": "code",
   "execution_count": null,
   "metadata": {},
   "outputs": [],
   "source": [
    "from keras.datasets import mnist\n"
   ]
  },
  {
   "cell_type": "code",
   "execution_count": null,
   "metadata": {},
   "outputs": [],
   "source": [
    "(train_X, train_y), (test_X, test_y) = mnist.load_data()\n",
    "print('X_train: ' + str(train_X.shape))\n",
    "print('Y_train: ' + str(train_y.shape))\n",
    "print('X_test:  '  + str(test_X.shape))\n",
    "print('Y_test:  '  + str(test_y.shape))"
   ]
  },
  {
   "cell_type": "code",
   "execution_count": null,
   "metadata": {},
   "outputs": [],
   "source": [
    "N_train = 1000\n",
    "N_test = 10\n",
    "train_X = train_X[0:N_train]\n",
    "train_y = train_y[0:N_train]\n",
    "test_X = test_X[0:N_test]\n",
    "test_y = test_y[0:N_test]"
   ]
  },
  {
   "cell_type": "code",
   "execution_count": null,
   "metadata": {},
   "outputs": [],
   "source": [
    "from matplotlib import pyplot\n",
    "for i in range(9):  \n",
    "    pyplot.subplot(330 + 1 + i)\n",
    "    pyplot.imshow(train_X[i], cmap=pyplot.get_cmap('gray'))\n",
    "    pyplot.show()\n"
   ]
  },
  {
   "cell_type": "code",
   "execution_count": null,
   "metadata": {},
   "outputs": [],
   "source": [
    "train_y[0]"
   ]
  },
  {
   "cell_type": "code",
   "execution_count": null,
   "metadata": {},
   "outputs": [],
   "source": [
    "def transfer_X(data_X):\n",
    "    data_X_reshape = data_X.reshape(len(data_X), -1)\n",
    "    data_X_reshape = data_X_reshape / 255.0\n",
    "    return data_X_reshape\n",
    "\n",
    "train_X_reshape = transfer_X(train_X)\n",
    "print(train_X_reshape.shape)\n"
   ]
  },
  {
   "cell_type": "code",
   "execution_count": null,
   "metadata": {},
   "outputs": [],
   "source": [
    "train_y.min(), train_y.max()"
   ]
  },
  {
   "cell_type": "code",
   "execution_count": null,
   "metadata": {},
   "outputs": [],
   "source": [
    "def transfer_Y(data_y, n_classes = None):\n",
    "    # one hot encoding\n",
    "    # initial data_y is output of a class indices, e.g. [2, 1, 0, 9, ...]\n",
    "    # convert it to one hot encoding, e.g. [[0,0,1,...], [0,1,0...], ...]\n",
    "    nd = len(data_y)\n",
    "    if n_classes is None:\n",
    "        n_classes = data_y.max() + 1\n",
    "    encoded_data_y = np.zeros((nd, n_classes), dtype=int)\n",
    "    encoded_data_y[np.arange(nd), data_y] = 1\n",
    "    return encoded_data_y\n",
    "\n",
    "n_classes = 10\n",
    "train_y_encoded = transfer_Y(train_y, n_classes)\n",
    "train_y_encoded[0:3]\n"
   ]
  },
  {
   "cell_type": "code",
   "execution_count": null,
   "metadata": {},
   "outputs": [],
   "source": [
    "n_nonzero = 0\n",
    "for idx, val in enumerate(train_X_reshape[0]):\n",
    "    if val > 0:\n",
    "        n_nonzero += 1\n",
    "        if n_nonzero <= 10:\n",
    "            print(idx, val) \n",
    "n_nonzero"
   ]
  },
  {
   "cell_type": "code",
   "execution_count": null,
   "metadata": {},
   "outputs": [],
   "source": [
    "nd_X, nd_y = len(train_X_reshape[0]), len(train_y_encoded[0])\n",
    "print(f\"Dimensions, X {nd_X}, y {nd_y}\")\n",
    "learning_rate = 0.001\n",
    "net = NeuralNet()\n",
    "net.add_layer(Linear(nd_X, 64, learning_rate))\n",
    "net.add_layer(Relu())\n",
    "net.add_layer(Linear(64, 24, learning_rate))\n",
    "net.add_layer(Relu())\n",
    "net.add_layer(Linear(24, nd_y, learning_rate))\n",
    "net.add_layer(Softmax())"
   ]
  },
  {
   "cell_type": "code",
   "execution_count": null,
   "metadata": {},
   "outputs": [],
   "source": [
    "net.loss = MultiCrossEntropyLoss()"
   ]
  },
  {
   "cell_type": "code",
   "execution_count": null,
   "metadata": {},
   "outputs": [],
   "source": [
    "train_y_encoded.shape"
   ]
  },
  {
   "cell_type": "code",
   "execution_count": null,
   "metadata": {},
   "outputs": [],
   "source": [
    "net.train(train_X_reshape, train_y_encoded, n_epoch=2)"
   ]
  },
  {
   "cell_type": "code",
   "execution_count": null,
   "metadata": {},
   "outputs": [],
   "source": [
    "test_X_reshape = transfer_X(test_X)\n",
    "print(test_X_reshape.shape)\n",
    "test_y_encoded = transfer_Y(test_y, n_classes)"
   ]
  },
  {
   "cell_type": "code",
   "execution_count": null,
   "metadata": {},
   "outputs": [],
   "source": [
    "predicted = net.test(test_X_reshape, test_y_encoded)\n",
    "predicted.shape\n"
   ]
  },
  {
   "cell_type": "code",
   "execution_count": null,
   "metadata": {},
   "outputs": [],
   "source": [
    "predicted[0]"
   ]
  },
  {
   "cell_type": "code",
   "execution_count": null,
   "metadata": {},
   "outputs": [],
   "source": [
    "from sklearn.metrics import accuracy_score, precision_score, average_precision_score, recall_score, multilabel_confusion_matrix\n"
   ]
  },
  {
   "cell_type": "code",
   "execution_count": null,
   "metadata": {},
   "outputs": [],
   "source": [
    "test_y_predicted = np.argmax(predicted, axis=1)\n",
    "print(test_y_predicted[0])\n",
    "test_y_predicted.shape"
   ]
  },
  {
   "cell_type": "code",
   "execution_count": null,
   "metadata": {},
   "outputs": [],
   "source": [
    "cm = multilabel_confusion_matrix(test_y, test_y_predicted)\n",
    "cm"
   ]
  },
  {
   "cell_type": "code",
   "execution_count": null,
   "metadata": {},
   "outputs": [],
   "source": [
    "result = {\n",
    "    \"accuracy\": accuracy_score(test_y, test_y_predicted),\n",
    "    \"precision\": precision_score(test_y, test_y_predicted, average=\"micro\"),\n",
    "    \"recall\": recall_score(test_y, test_y_predicted, average=\"micro\")\n",
    "}\n",
    "result"
   ]
  },
  {
   "cell_type": "code",
   "execution_count": null,
   "metadata": {},
   "outputs": [],
   "source": []
  }
 ],
 "metadata": {
  "kernelspec": {
   "display_name": "Py39Common",
   "language": "python",
   "name": "python3"
  },
  "language_info": {
   "codemirror_mode": {
    "name": "ipython",
    "version": 3
   },
   "file_extension": ".py",
   "mimetype": "text/x-python",
   "name": "python",
   "nbconvert_exporter": "python",
   "pygments_lexer": "ipython3",
   "version": "3.9.6"
  }
 },
 "nbformat": 4,
 "nbformat_minor": 2
}

{
 "cells": [
  {
   "cell_type": "code",
   "execution_count": 1,
   "metadata": {},
   "outputs": [],
   "source": [
    "from nn import Linear, Relu, Sigmoid\n",
    "from loss import CrossEntropyLoss\n",
    "from network import NeuralNet\n",
    "import numpy as np\n",
    "import logging\n",
    "logging.basicConfig(format=\"%(asctime)s %(levelname)s: %(message)s\",\n",
    "                    level=logging.INFO)\n",
    "logger = logging.getLogger(__name__)"
   ]
  },
  {
   "cell_type": "code",
   "execution_count": 2,
   "metadata": {},
   "outputs": [
    {
     "data": {
      "text/html": [
       "<div>\n",
       "<style scoped>\n",
       "    .dataframe tbody tr th:only-of-type {\n",
       "        vertical-align: middle;\n",
       "    }\n",
       "\n",
       "    .dataframe tbody tr th {\n",
       "        vertical-align: top;\n",
       "    }\n",
       "\n",
       "    .dataframe thead th {\n",
       "        text-align: right;\n",
       "    }\n",
       "</style>\n",
       "<table border=\"1\" class=\"dataframe\">\n",
       "  <thead>\n",
       "    <tr style=\"text-align: right;\">\n",
       "      <th></th>\n",
       "      <th>Customer_ID</th>\n",
       "      <th>Age</th>\n",
       "      <th>Gender</th>\n",
       "      <th>Annual_Income</th>\n",
       "      <th>Total_Spend</th>\n",
       "      <th>Years_as_Customer</th>\n",
       "      <th>Num_of_Purchases</th>\n",
       "      <th>Average_Transaction_Amount</th>\n",
       "      <th>Num_of_Returns</th>\n",
       "      <th>Num_of_Support_Contacts</th>\n",
       "      <th>Satisfaction_Score</th>\n",
       "      <th>Last_Purchase_Days_Ago</th>\n",
       "      <th>Email_Opt_In</th>\n",
       "      <th>Promotion_Response</th>\n",
       "      <th>Target_Churn</th>\n",
       "    </tr>\n",
       "  </thead>\n",
       "  <tbody>\n",
       "    <tr>\n",
       "      <th>0</th>\n",
       "      <td>1</td>\n",
       "      <td>62</td>\n",
       "      <td>Other</td>\n",
       "      <td>45.15</td>\n",
       "      <td>5892.58</td>\n",
       "      <td>5</td>\n",
       "      <td>22</td>\n",
       "      <td>453.80</td>\n",
       "      <td>2</td>\n",
       "      <td>0</td>\n",
       "      <td>3</td>\n",
       "      <td>129</td>\n",
       "      <td>True</td>\n",
       "      <td>Responded</td>\n",
       "      <td>True</td>\n",
       "    </tr>\n",
       "    <tr>\n",
       "      <th>1</th>\n",
       "      <td>2</td>\n",
       "      <td>65</td>\n",
       "      <td>Male</td>\n",
       "      <td>79.51</td>\n",
       "      <td>9025.47</td>\n",
       "      <td>13</td>\n",
       "      <td>77</td>\n",
       "      <td>22.90</td>\n",
       "      <td>2</td>\n",
       "      <td>2</td>\n",
       "      <td>3</td>\n",
       "      <td>227</td>\n",
       "      <td>False</td>\n",
       "      <td>Responded</td>\n",
       "      <td>False</td>\n",
       "    </tr>\n",
       "    <tr>\n",
       "      <th>2</th>\n",
       "      <td>3</td>\n",
       "      <td>18</td>\n",
       "      <td>Male</td>\n",
       "      <td>29.19</td>\n",
       "      <td>618.83</td>\n",
       "      <td>13</td>\n",
       "      <td>71</td>\n",
       "      <td>50.53</td>\n",
       "      <td>5</td>\n",
       "      <td>2</td>\n",
       "      <td>2</td>\n",
       "      <td>283</td>\n",
       "      <td>False</td>\n",
       "      <td>Responded</td>\n",
       "      <td>True</td>\n",
       "    </tr>\n",
       "    <tr>\n",
       "      <th>3</th>\n",
       "      <td>4</td>\n",
       "      <td>21</td>\n",
       "      <td>Other</td>\n",
       "      <td>79.63</td>\n",
       "      <td>9110.30</td>\n",
       "      <td>3</td>\n",
       "      <td>33</td>\n",
       "      <td>411.83</td>\n",
       "      <td>5</td>\n",
       "      <td>3</td>\n",
       "      <td>5</td>\n",
       "      <td>226</td>\n",
       "      <td>True</td>\n",
       "      <td>Ignored</td>\n",
       "      <td>True</td>\n",
       "    </tr>\n",
       "    <tr>\n",
       "      <th>4</th>\n",
       "      <td>5</td>\n",
       "      <td>21</td>\n",
       "      <td>Other</td>\n",
       "      <td>77.66</td>\n",
       "      <td>5390.88</td>\n",
       "      <td>15</td>\n",
       "      <td>43</td>\n",
       "      <td>101.19</td>\n",
       "      <td>3</td>\n",
       "      <td>0</td>\n",
       "      <td>5</td>\n",
       "      <td>242</td>\n",
       "      <td>False</td>\n",
       "      <td>Unsubscribed</td>\n",
       "      <td>False</td>\n",
       "    </tr>\n",
       "  </tbody>\n",
       "</table>\n",
       "</div>"
      ],
      "text/plain": [
       "   Customer_ID  Age Gender  Annual_Income  Total_Spend  Years_as_Customer  \\\n",
       "0            1   62  Other          45.15      5892.58                  5   \n",
       "1            2   65   Male          79.51      9025.47                 13   \n",
       "2            3   18   Male          29.19       618.83                 13   \n",
       "3            4   21  Other          79.63      9110.30                  3   \n",
       "4            5   21  Other          77.66      5390.88                 15   \n",
       "\n",
       "   Num_of_Purchases  Average_Transaction_Amount  Num_of_Returns  \\\n",
       "0                22                      453.80               2   \n",
       "1                77                       22.90               2   \n",
       "2                71                       50.53               5   \n",
       "3                33                      411.83               5   \n",
       "4                43                      101.19               3   \n",
       "\n",
       "   Num_of_Support_Contacts  Satisfaction_Score  Last_Purchase_Days_Ago  \\\n",
       "0                        0                   3                     129   \n",
       "1                        2                   3                     227   \n",
       "2                        2                   2                     283   \n",
       "3                        3                   5                     226   \n",
       "4                        0                   5                     242   \n",
       "\n",
       "   Email_Opt_In Promotion_Response  Target_Churn  \n",
       "0          True          Responded          True  \n",
       "1         False          Responded         False  \n",
       "2         False          Responded          True  \n",
       "3          True            Ignored          True  \n",
       "4         False       Unsubscribed         False  "
      ]
     },
     "execution_count": 2,
     "metadata": {},
     "output_type": "execute_result"
    }
   ],
   "source": [
    "# https://www.kaggle.com/datasets/hassaneskikri/online-retail-customer-churn-dataset\n",
    "import pandas as pd\n",
    "df = pd.read_csv(\"data/online_retail_customer_churn.csv\")\n",
    "df.head()"
   ]
  },
  {
   "cell_type": "code",
   "execution_count": 3,
   "metadata": {},
   "outputs": [
    {
     "name": "stdout",
     "output_type": "stream",
     "text": [
      "data size: 1000\n"
     ]
    },
    {
     "data": {
      "text/html": [
       "<div>\n",
       "<style scoped>\n",
       "    .dataframe tbody tr th:only-of-type {\n",
       "        vertical-align: middle;\n",
       "    }\n",
       "\n",
       "    .dataframe tbody tr th {\n",
       "        vertical-align: top;\n",
       "    }\n",
       "\n",
       "    .dataframe thead th {\n",
       "        text-align: right;\n",
       "    }\n",
       "</style>\n",
       "<table border=\"1\" class=\"dataframe\">\n",
       "  <thead>\n",
       "    <tr style=\"text-align: right;\">\n",
       "      <th></th>\n",
       "      <th>Age</th>\n",
       "      <th>Annual_Income</th>\n",
       "    </tr>\n",
       "  </thead>\n",
       "  <tbody>\n",
       "    <tr>\n",
       "      <th>0</th>\n",
       "      <td>62</td>\n",
       "      <td>45.15</td>\n",
       "    </tr>\n",
       "    <tr>\n",
       "      <th>1</th>\n",
       "      <td>65</td>\n",
       "      <td>79.51</td>\n",
       "    </tr>\n",
       "    <tr>\n",
       "      <th>2</th>\n",
       "      <td>18</td>\n",
       "      <td>29.19</td>\n",
       "    </tr>\n",
       "    <tr>\n",
       "      <th>3</th>\n",
       "      <td>21</td>\n",
       "      <td>79.63</td>\n",
       "    </tr>\n",
       "    <tr>\n",
       "      <th>4</th>\n",
       "      <td>21</td>\n",
       "      <td>77.66</td>\n",
       "    </tr>\n",
       "  </tbody>\n",
       "</table>\n",
       "</div>"
      ],
      "text/plain": [
       "   Age  Annual_Income\n",
       "0   62          45.15\n",
       "1   65          79.51\n",
       "2   18          29.19\n",
       "3   21          79.63\n",
       "4   21          77.66"
      ]
     },
     "execution_count": 3,
     "metadata": {},
     "output_type": "execute_result"
    }
   ],
   "source": [
    "# X_columns = [\"Age\", \"Annual_Income\", \"Total_Spend\", \"Years_as_Customer\",\n",
    "#         \"Num_of_Purchases\", \"Average_Transaction_Amount\", \"Num_of_Returns\"] \n",
    "X_columns = [\"Age\", \"Annual_Income\"]\n",
    "y_column = \"Target_Churn\"\n",
    "df_x = df[X_columns]\n",
    "df_y = df[y_column]\n",
    "print(\"data size:\", len(df_y))\n",
    "df_x.head()"
   ]
  },
  {
   "cell_type": "code",
   "execution_count": 4,
   "metadata": {},
   "outputs": [],
   "source": [
    "df_x_norm = (df_x-df_x.mean()) / df_x.std()"
   ]
  },
  {
   "cell_type": "code",
   "execution_count": 5,
   "metadata": {},
   "outputs": [
    {
     "data": {
      "text/plain": [
       "2"
      ]
     },
     "execution_count": 5,
     "metadata": {},
     "output_type": "execute_result"
    }
   ],
   "source": [
    "N_features = len(X_columns)\n",
    "N_features"
   ]
  },
  {
   "cell_type": "code",
   "execution_count": 6,
   "metadata": {},
   "outputs": [],
   "source": [
    "from sklearn.model_selection import train_test_split\n",
    "X, y = df_x_norm.values, df_y.values.astype(\"float32\")\n",
    "X_train, X_test, y_train, y_test = train_test_split(X, y, test_size=0.2, random_state=388765865)"
   ]
  },
  {
   "cell_type": "code",
   "execution_count": 7,
   "metadata": {},
   "outputs": [],
   "source": [
    "learning_rate = 0.001\n",
    "net = NeuralNet()\n",
    "net.add_layer(Linear(N_features, 1, learning_rate))\n",
    "# net.add_layer(Relu())\n",
    "# net.add_layer(Linear(3, 1, learning_rate))\n",
    "net.add_layer(Sigmoid())"
   ]
  },
  {
   "cell_type": "code",
   "execution_count": 8,
   "metadata": {},
   "outputs": [],
   "source": [
    "net.loss = CrossEntropyLoss()"
   ]
  },
  {
   "cell_type": "code",
   "execution_count": 9,
   "metadata": {},
   "outputs": [
    {
     "name": "stderr",
     "output_type": "stream",
     "text": [
      "2024-02-29 11:53:03,491 INFO: Running epoch:    0\n",
      "2024-02-29 11:53:03,515 INFO: Epoch: 0, Loss:        0.862\n",
      "\n",
      "2024-02-29 11:53:03,544 INFO: Running epoch:    2\n",
      "2024-02-29 11:53:03,575 INFO: Epoch: 2, Loss:        0.782\n",
      "\n",
      "2024-02-29 11:53:03,599 INFO: Running epoch:    4\n",
      "2024-02-29 11:53:03,621 INFO: Epoch: 4, Loss:        0.736\n",
      "\n",
      "2024-02-29 11:53:03,643 INFO: Running epoch:    6\n",
      "2024-02-29 11:53:03,663 INFO: Epoch: 6, Loss:        0.712\n",
      "\n",
      "2024-02-29 11:53:03,685 INFO: Running epoch:    8\n",
      "2024-02-29 11:53:03,707 INFO: Epoch: 8, Loss:        0.701\n",
      "\n",
      "2024-02-29 11:53:03,728 INFO: Running epoch:   10\n",
      "2024-02-29 11:53:03,747 INFO: Epoch: 10, Loss:        0.695\n",
      "\n",
      "2024-02-29 11:53:03,769 INFO: Running epoch:   12\n",
      "2024-02-29 11:53:03,792 INFO: Epoch: 12, Loss:        0.693\n",
      "\n",
      "2024-02-29 11:53:03,811 INFO: Running epoch:   14\n",
      "2024-02-29 11:53:03,834 INFO: Epoch: 14, Loss:        0.692\n",
      "\n",
      "2024-02-29 11:53:03,858 INFO: Running epoch:   16\n",
      "2024-02-29 11:53:03,881 INFO: Epoch: 16, Loss:        0.691\n",
      "\n",
      "2024-02-29 11:53:03,904 INFO: Running epoch:   18\n",
      "2024-02-29 11:53:03,925 INFO: Epoch: 18, Loss:        0.691\n",
      "\n",
      "2024-02-29 11:53:03,948 INFO: Trained model!\n"
     ]
    }
   ],
   "source": [
    "net.train(X_train, y_train, n_epoch=20)"
   ]
  },
  {
   "cell_type": "code",
   "execution_count": 10,
   "metadata": {},
   "outputs": [
    {
     "name": "stderr",
     "output_type": "stream",
     "text": [
      "2024-02-29 11:53:03,952 INFO: Number of test data: 200\n",
      "2024-02-29 11:53:03,956 INFO: Error of test data:        0.699\n"
     ]
    },
    {
     "data": {
      "text/plain": [
       "array([[0.53939854],\n",
       "       [0.52759204],\n",
       "       [0.50133213],\n",
       "       [0.50409599],\n",
       "       [0.54305883],\n",
       "       [0.54844238],\n",
       "       [0.50495554],\n",
       "       [0.50056651],\n",
       "       [0.49962963],\n",
       "       [0.52294999],\n",
       "       [0.54748928],\n",
       "       [0.50538822],\n",
       "       [0.55833884],\n",
       "       [0.50901319],\n",
       "       [0.51666512],\n",
       "       [0.52123392],\n",
       "       [0.53467398],\n",
       "       [0.54821513],\n",
       "       [0.50528989],\n",
       "       [0.54555255],\n",
       "       [0.51211329],\n",
       "       [0.52717701],\n",
       "       [0.51882717],\n",
       "       [0.53651708],\n",
       "       [0.50744203],\n",
       "       [0.5039528 ],\n",
       "       [0.52146854],\n",
       "       [0.52950969],\n",
       "       [0.50889646],\n",
       "       [0.51844149],\n",
       "       [0.51357461],\n",
       "       [0.53742372],\n",
       "       [0.52821088],\n",
       "       [0.54948626],\n",
       "       [0.5468202 ],\n",
       "       [0.50993395],\n",
       "       [0.51437862],\n",
       "       [0.51602843],\n",
       "       [0.51673697],\n",
       "       [0.52173483],\n",
       "       [0.5556308 ],\n",
       "       [0.52936848],\n",
       "       [0.50274755],\n",
       "       [0.52936534],\n",
       "       [0.52128533],\n",
       "       [0.53110248],\n",
       "       [0.55233875],\n",
       "       [0.55293341],\n",
       "       [0.55315367],\n",
       "       [0.50103096],\n",
       "       [0.55597562],\n",
       "       [0.54466713],\n",
       "       [0.51344182],\n",
       "       [0.54231167],\n",
       "       [0.52625971],\n",
       "       [0.51056458],\n",
       "       [0.54077006],\n",
       "       [0.54310303],\n",
       "       [0.5372582 ],\n",
       "       [0.55187048],\n",
       "       [0.54191335],\n",
       "       [0.5170323 ],\n",
       "       [0.54638169],\n",
       "       [0.54119938],\n",
       "       [0.53575381],\n",
       "       [0.54616381],\n",
       "       [0.51107032],\n",
       "       [0.54307335],\n",
       "       [0.52259491],\n",
       "       [0.5513661 ],\n",
       "       [0.53053687],\n",
       "       [0.55020561],\n",
       "       [0.52282916],\n",
       "       [0.5240063 ],\n",
       "       [0.50357558],\n",
       "       [0.50249688],\n",
       "       [0.55112794],\n",
       "       [0.54669918],\n",
       "       [0.54671564],\n",
       "       [0.50907946],\n",
       "       [0.50341745],\n",
       "       [0.53969765],\n",
       "       [0.4984803 ],\n",
       "       [0.54910496],\n",
       "       [0.54025915],\n",
       "       [0.51292158],\n",
       "       [0.51908361],\n",
       "       [0.55301406],\n",
       "       [0.55404857],\n",
       "       [0.52054576],\n",
       "       [0.51356597],\n",
       "       [0.5001813 ],\n",
       "       [0.55261837],\n",
       "       [0.53654484],\n",
       "       [0.53033579],\n",
       "       [0.55649504],\n",
       "       [0.52020944],\n",
       "       [0.5235056 ],\n",
       "       [0.51265531],\n",
       "       [0.52084243],\n",
       "       [0.55335797],\n",
       "       [0.50973453],\n",
       "       [0.55864538],\n",
       "       [0.54536276],\n",
       "       [0.51747596],\n",
       "       [0.53293512],\n",
       "       [0.50755496],\n",
       "       [0.54376048],\n",
       "       [0.55766842],\n",
       "       [0.53492658],\n",
       "       [0.52705479],\n",
       "       [0.54385707],\n",
       "       [0.55503159],\n",
       "       [0.51951685],\n",
       "       [0.51381512],\n",
       "       [0.52891405],\n",
       "       [0.53553698],\n",
       "       [0.50183893],\n",
       "       [0.55016368],\n",
       "       [0.51138562],\n",
       "       [0.50122548],\n",
       "       [0.525212  ],\n",
       "       [0.55112186],\n",
       "       [0.51230388],\n",
       "       [0.55714763],\n",
       "       [0.51743415],\n",
       "       [0.49890605],\n",
       "       [0.50972905],\n",
       "       [0.5424098 ],\n",
       "       [0.49866585],\n",
       "       [0.53446502],\n",
       "       [0.53474358],\n",
       "       [0.50273708],\n",
       "       [0.54261313],\n",
       "       [0.55059694],\n",
       "       [0.52788582],\n",
       "       [0.53058866],\n",
       "       [0.55350855],\n",
       "       [0.50356047],\n",
       "       [0.53363782],\n",
       "       [0.52503918],\n",
       "       [0.50335815],\n",
       "       [0.50385264],\n",
       "       [0.52385299],\n",
       "       [0.5550201 ],\n",
       "       [0.54640376],\n",
       "       [0.51549723],\n",
       "       [0.54514875],\n",
       "       [0.5320434 ],\n",
       "       [0.51504383],\n",
       "       [0.53564722],\n",
       "       [0.54899045],\n",
       "       [0.5010381 ],\n",
       "       [0.53568672],\n",
       "       [0.55727026],\n",
       "       [0.52394846],\n",
       "       [0.54775166],\n",
       "       [0.54392366],\n",
       "       [0.51087059],\n",
       "       [0.54616363],\n",
       "       [0.53192379],\n",
       "       [0.515082  ],\n",
       "       [0.53380846],\n",
       "       [0.51177046],\n",
       "       [0.55713272],\n",
       "       [0.55417859],\n",
       "       [0.55150368],\n",
       "       [0.54620416],\n",
       "       [0.52302244],\n",
       "       [0.52395475],\n",
       "       [0.5386039 ],\n",
       "       [0.52612586],\n",
       "       [0.51637656],\n",
       "       [0.5204461 ],\n",
       "       [0.54402867],\n",
       "       [0.5269097 ],\n",
       "       [0.51704823],\n",
       "       [0.55302836],\n",
       "       [0.54969367],\n",
       "       [0.52302625],\n",
       "       [0.52273135],\n",
       "       [0.5517658 ],\n",
       "       [0.50901851],\n",
       "       [0.54424721],\n",
       "       [0.52933687],\n",
       "       [0.54113487],\n",
       "       [0.55818432],\n",
       "       [0.52039734],\n",
       "       [0.513353  ],\n",
       "       [0.53163559],\n",
       "       [0.53676128],\n",
       "       [0.51761301],\n",
       "       [0.55285556],\n",
       "       [0.51347501],\n",
       "       [0.50278542],\n",
       "       [0.52272157],\n",
       "       [0.50551063],\n",
       "       [0.55648618],\n",
       "       [0.5040983 ],\n",
       "       [0.52026351]])"
      ]
     },
     "execution_count": 10,
     "metadata": {},
     "output_type": "execute_result"
    }
   ],
   "source": [
    "predicted = net.test(X_test, y_test)\n",
    "predicted"
   ]
  },
  {
   "cell_type": "code",
   "execution_count": 11,
   "metadata": {},
   "outputs": [
    {
     "data": {
      "text/plain": [
       "(200, 1)"
      ]
     },
     "execution_count": 11,
     "metadata": {},
     "output_type": "execute_result"
    }
   ],
   "source": [
    "predicted.shape"
   ]
  },
  {
   "cell_type": "code",
   "execution_count": 12,
   "metadata": {},
   "outputs": [
    {
     "data": {
      "text/plain": [
       "(200,)"
      ]
     },
     "execution_count": 12,
     "metadata": {},
     "output_type": "execute_result"
    }
   ],
   "source": [
    "predicted = predicted.reshape((len(predicted)))\n",
    "predicted.shape"
   ]
  },
  {
   "cell_type": "code",
   "execution_count": 13,
   "metadata": {},
   "outputs": [
    {
     "data": {
      "text/plain": [
       "97"
      ]
     },
     "execution_count": 13,
     "metadata": {},
     "output_type": "execute_result"
    }
   ],
   "source": [
    "TP = np.sum((predicted > 0.5 ) & y_test.astype(bool))\n",
    "TP"
   ]
  },
  {
   "cell_type": "code",
   "execution_count": 14,
   "metadata": {},
   "outputs": [
    {
     "data": {
      "text/plain": [
       "2"
      ]
     },
     "execution_count": 14,
     "metadata": {},
     "output_type": "execute_result"
    }
   ],
   "source": [
    "TN = np.sum((predicted < 0.5 ) & np.logical_not(y_test))\n",
    "TN"
   ]
  },
  {
   "cell_type": "code",
   "execution_count": 15,
   "metadata": {},
   "outputs": [
    {
     "data": {
      "text/plain": [
       "99"
      ]
     },
     "execution_count": 15,
     "metadata": {},
     "output_type": "execute_result"
    }
   ],
   "source": [
    "FP = np.sum((predicted > 0.5 ) & np.logical_not(y_test))\n",
    "FP"
   ]
  },
  {
   "cell_type": "code",
   "execution_count": 16,
   "metadata": {},
   "outputs": [
    {
     "data": {
      "text/plain": [
       "2"
      ]
     },
     "execution_count": 16,
     "metadata": {},
     "output_type": "execute_result"
    }
   ],
   "source": [
    "FN = np.sum((predicted < 0.5 ) & y_test.astype(bool))\n",
    "FN\n",
    "\n"
   ]
  },
  {
   "cell_type": "code",
   "execution_count": 17,
   "metadata": {},
   "outputs": [
    {
     "name": "stdout",
     "output_type": "stream",
     "text": [
      "precision: 49.5%, recall: 98.0%\n"
     ]
    }
   ],
   "source": [
    "precision = TP / (TP + FP)\n",
    "recall = TP / (TP + FN)\n",
    "print(\"precision: %.1f%%, recall: %.1f%%\" % (100* precision, 100* recall))"
   ]
  },
  {
   "cell_type": "code",
   "execution_count": null,
   "metadata": {},
   "outputs": [],
   "source": []
  }
 ],
 "metadata": {
  "kernelspec": {
   "display_name": "Py39Common",
   "language": "python",
   "name": "python3"
  },
  "language_info": {
   "codemirror_mode": {
    "name": "ipython",
    "version": 3
   },
   "file_extension": ".py",
   "mimetype": "text/x-python",
   "name": "python",
   "nbconvert_exporter": "python",
   "pygments_lexer": "ipython3",
   "version": "3.9.6"
  }
 },
 "nbformat": 4,
 "nbformat_minor": 2
}

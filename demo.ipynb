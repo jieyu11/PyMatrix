{
 "cells": [
  {
   "cell_type": "code",
   "execution_count": 1,
   "metadata": {},
   "outputs": [],
   "source": [
    "from nn import Linear, Sigmoid, Relu\n",
    "from loss import CrossEntropyLoss, MSELoss\n",
    "from network import NeuralNet\n",
    "import numpy as np\n",
    "import logging\n",
    "logging.basicConfig(format=\"%(asctime)s %(levelname)s: %(message)s\",\n",
    "                    level=logging.INFO)\n",
    "logger = logging.getLogger(__name__)"
   ]
  },
  {
   "cell_type": "code",
   "execution_count": 2,
   "metadata": {},
   "outputs": [],
   "source": [
    "# X_train = np.array([[0,0], [0,1], [1,0], [1,1]])\n",
    "# y_train = np.array([0, 1, 1, 0])\n",
    "\n",
    "X_train = np.array(\n",
    "    [[2.7810836,2.55053003],\n",
    "    [1.46548937,2.36212507],\n",
    "    [3.39656168,4.40029352],\n",
    "    [1.38807019,1.85022031],\n",
    "    [3.06407232,3.00530597],\n",
    "    [7.62753121,2.75926223],\n",
    "    [5.33244124,2.08862677],\n",
    "    [6.92259671,1.77106367],\n",
    "    [8.67541865,-0.2420686],\n",
    "    [7.67375646,3.50856301]]    \n",
    ")\n",
    "\n",
    "y_train = np.array([0, 0, 0, 0, 0, 1, 1, 1, 1, 1])\n"
   ]
  },
  {
   "cell_type": "code",
   "execution_count": 3,
   "metadata": {},
   "outputs": [],
   "source": [
    "learning_rate = 0.1\n",
    "net = NeuralNet()\n",
    "net.add_layer(Linear(2, 3, learning_rate))\n",
    "net.add_layer(Relu())\n",
    "net.add_layer(Linear(3, 1, learning_rate))\n",
    "# net.add_layer(Linear(2, 1, learning_rate))\n",
    "net.add_layer(Sigmoid())"
   ]
  },
  {
   "cell_type": "code",
   "execution_count": 4,
   "metadata": {},
   "outputs": [],
   "source": [
    "# net.loss = CrossEntropyLoss()\n",
    "net.loss = MSELoss()"
   ]
  },
  {
   "cell_type": "code",
   "execution_count": 5,
   "metadata": {},
   "outputs": [
    {
     "name": "stderr",
     "output_type": "stream",
     "text": [
      "2024-03-02 14:48:28,385 INFO: Running epoch:    0\n",
      "2024-03-02 14:48:28,388 INFO: Epoch: 0, Loss:        0.500\n",
      "\n",
      "2024-03-02 14:48:28,394 INFO: Running epoch:   10\n",
      "2024-03-02 14:48:28,397 INFO: Epoch: 10, Loss:        0.500\n",
      "\n",
      "2024-03-02 14:48:28,404 INFO: Running epoch:   20\n",
      "2024-03-02 14:48:28,406 INFO: Epoch: 20, Loss:        0.499\n",
      "\n",
      "2024-03-02 14:48:28,414 INFO: Running epoch:   30\n",
      "2024-03-02 14:48:28,416 INFO: Epoch: 30, Loss:        0.479\n",
      "\n",
      "2024-03-02 14:48:28,424 INFO: Running epoch:   40\n",
      "2024-03-02 14:48:28,426 INFO: Epoch: 40, Loss:        0.069\n",
      "\n",
      "2024-03-02 14:48:28,434 INFO: Running epoch:   50\n",
      "2024-03-02 14:48:28,435 INFO: Epoch: 50, Loss:        0.016\n",
      "\n",
      "2024-03-02 14:48:28,443 INFO: Running epoch:   60\n",
      "2024-03-02 14:48:28,444 INFO: Epoch: 60, Loss:        0.007\n",
      "\n",
      "2024-03-02 14:48:28,452 INFO: Running epoch:   70\n",
      "2024-03-02 14:48:28,453 INFO: Epoch: 70, Loss:        0.004\n",
      "\n",
      "2024-03-02 14:48:28,460 INFO: Running epoch:   80\n",
      "2024-03-02 14:48:28,462 INFO: Epoch: 80, Loss:        0.003\n",
      "\n",
      "2024-03-02 14:48:28,510 INFO: Running epoch:   90\n",
      "2024-03-02 14:48:28,521 INFO: Epoch: 90, Loss:        0.002\n",
      "\n",
      "2024-03-02 14:48:28,529 INFO: Trained model!\n"
     ]
    }
   ],
   "source": [
    "net.train(X_train, y_train, n_epoch=100)"
   ]
  },
  {
   "cell_type": "code",
   "execution_count": 6,
   "metadata": {},
   "outputs": [
    {
     "name": "stderr",
     "output_type": "stream",
     "text": [
      "2024-03-02 14:48:28,542 INFO: Number of test data: 10\n",
      "2024-03-02 14:48:28,544 INFO: Error of test data:        0.002\n"
     ]
    }
   ],
   "source": [
    "predicted = net.test(X_train, y_train)"
   ]
  },
  {
   "cell_type": "code",
   "execution_count": 7,
   "metadata": {},
   "outputs": [
    {
     "data": {
      "text/plain": [
       "array([0.08297909, 0.0115967 , 0.00617248, 0.02840746, 0.05636916,\n",
       "       0.98935051, 0.93277216, 0.99382889, 0.99996266, 0.97077185])"
      ]
     },
     "execution_count": 7,
     "metadata": {},
     "output_type": "execute_result"
    }
   ],
   "source": [
    "predicted = predicted.reshape(-1)\n",
    "predicted"
   ]
  },
  {
   "cell_type": "code",
   "execution_count": 8,
   "metadata": {},
   "outputs": [
    {
     "name": "stdout",
     "output_type": "stream",
     "text": [
      "predicted: 0.083, expected: 0 abs(diff): 0.083\n",
      "predicted: 0.012, expected: 0 abs(diff): 0.012\n",
      "predicted: 0.006, expected: 0 abs(diff): 0.006\n",
      "predicted: 0.028, expected: 0 abs(diff): 0.028\n",
      "predicted: 0.056, expected: 0 abs(diff): 0.056\n",
      "predicted: 0.989, expected: 1 abs(diff): 0.011\n",
      "predicted: 0.933, expected: 1 abs(diff): 0.067\n",
      "predicted: 0.994, expected: 1 abs(diff): 0.006\n",
      "predicted: 1.000, expected: 1 abs(diff): 0.000\n",
      "predicted: 0.971, expected: 1 abs(diff): 0.029\n"
     ]
    }
   ],
   "source": [
    "for pred, expect in zip(predicted, y_train):\n",
    "    print(\"predicted: %.3f, expected: %d abs(diff): %.3f\" % (pred, expect, np.abs(pred - expect)))\n"
   ]
  },
  {
   "cell_type": "code",
   "execution_count": null,
   "metadata": {},
   "outputs": [],
   "source": []
  }
 ],
 "metadata": {
  "kernelspec": {
   "display_name": "Py39Common",
   "language": "python",
   "name": "python3"
  },
  "language_info": {
   "codemirror_mode": {
    "name": "ipython",
    "version": 3
   },
   "file_extension": ".py",
   "mimetype": "text/x-python",
   "name": "python",
   "nbconvert_exporter": "python",
   "pygments_lexer": "ipython3",
   "version": "3.9.6"
  }
 },
 "nbformat": 4,
 "nbformat_minor": 2
}

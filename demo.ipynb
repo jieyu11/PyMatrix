{
 "cells": [
  {
   "cell_type": "code",
   "execution_count": 1,
   "metadata": {},
   "outputs": [],
   "source": [
    "from nn import Linear, Sigmoid, Relu\n",
    "from loss import CrossEntropyLoss, MSELoss\n",
    "from network import NeuralNet\n",
    "import numpy as np\n",
    "import logging\n",
    "logging.basicConfig(format=\"%(asctime)s %(levelname)s: %(message)s\",\n",
    "                    level=logging.INFO)\n",
    "logger = logging.getLogger(__name__)"
   ]
  },
  {
   "cell_type": "code",
   "execution_count": 2,
   "metadata": {},
   "outputs": [],
   "source": [
    "# X_train = np.array([[0,0], [0,1], [1,0], [1,1]])\n",
    "# y_train = np.array([0, 1, 1, 0])\n",
    "\n",
    "X_train = np.array(\n",
    "    [[2.7810836,2.55053003],\n",
    "    [1.46548937,2.36212507],\n",
    "    [3.39656168,4.40029352],\n",
    "    [1.38807019,1.85022031],\n",
    "    [3.06407232,3.00530597],\n",
    "    [7.62753121,2.75926223],\n",
    "    [5.33244124,2.08862677],\n",
    "    [6.92259671,1.77106367],\n",
    "    [8.67541865,-0.2420686],\n",
    "    [7.67375646,3.50856301]]    \n",
    ")\n",
    "\n",
    "y_train = np.array([0, 0, 0, 0, 0, 1, 1, 1, 1, 1])\n"
   ]
  },
  {
   "cell_type": "code",
   "execution_count": 3,
   "metadata": {},
   "outputs": [],
   "source": [
    "learning_rate = 0.01\n",
    "net = NeuralNet()\n",
    "# net.add_layer(Linear(2, 3, learning_rate))\n",
    "# net.add_layer(Relu())\n",
    "# net.add_layer(Linear(3, 1, learning_rate))\n",
    "net.add_layer(Linear(2, 1, learning_rate))\n",
    "net.add_layer(Sigmoid())"
   ]
  },
  {
   "cell_type": "code",
   "execution_count": 4,
   "metadata": {},
   "outputs": [],
   "source": [
    "net.loss = CrossEntropyLoss()\n",
    "# net.loss = MSELoss()"
   ]
  },
  {
   "cell_type": "code",
   "execution_count": 5,
   "metadata": {},
   "outputs": [
    {
     "name": "stderr",
     "output_type": "stream",
     "text": [
      "2024-03-02 15:05:34,687 INFO: Running epoch:    0\n",
      "2024-03-02 15:05:34,690 INFO: Epoch: 0, Loss:        1.045\n",
      "\n",
      "2024-03-02 15:05:34,734 INFO: Running epoch:  100\n",
      "2024-03-02 15:05:34,736 INFO: Epoch: 100, Loss:        0.069\n",
      "\n",
      "2024-03-02 15:05:34,774 INFO: Running epoch:  200\n",
      "2024-03-02 15:05:34,776 INFO: Epoch: 200, Loss:        0.041\n",
      "\n",
      "2024-03-02 15:05:34,817 INFO: Running epoch:  300\n",
      "2024-03-02 15:05:34,820 INFO: Epoch: 300, Loss:        0.030\n",
      "\n",
      "2024-03-02 15:05:34,852 INFO: Running epoch:  400\n",
      "2024-03-02 15:05:34,852 INFO: Epoch: 400, Loss:        0.023\n",
      "\n",
      "2024-03-02 15:05:34,884 INFO: Running epoch:  500\n",
      "2024-03-02 15:05:34,885 INFO: Epoch: 500, Loss:        0.019\n",
      "\n",
      "2024-03-02 15:05:34,913 INFO: Running epoch:  600\n",
      "2024-03-02 15:05:34,914 INFO: Epoch: 600, Loss:        0.016\n",
      "\n",
      "2024-03-02 15:05:34,947 INFO: Running epoch:  700\n",
      "2024-03-02 15:05:34,947 INFO: Epoch: 700, Loss:        0.014\n",
      "\n",
      "2024-03-02 15:05:34,975 INFO: Running epoch:  800\n",
      "2024-03-02 15:05:34,976 INFO: Epoch: 800, Loss:        0.013\n",
      "\n",
      "2024-03-02 15:05:35,006 INFO: Running epoch:  900\n",
      "2024-03-02 15:05:35,007 INFO: Epoch: 900, Loss:        0.011\n",
      "\n",
      "2024-03-02 15:05:35,036 INFO: Trained model!\n"
     ]
    }
   ],
   "source": [
    "net.train(X_train, y_train, n_epoch=1000)"
   ]
  },
  {
   "cell_type": "code",
   "execution_count": 6,
   "metadata": {},
   "outputs": [
    {
     "name": "stderr",
     "output_type": "stream",
     "text": [
      "2024-03-02 15:05:35,040 INFO: Number of test data: 10\n",
      "2024-03-02 15:05:35,041 INFO: Error of test data:        0.010\n"
     ]
    }
   ],
   "source": [
    "predicted = net.test(X_train, y_train)"
   ]
  },
  {
   "cell_type": "code",
   "execution_count": 7,
   "metadata": {},
   "outputs": [
    {
     "data": {
      "text/plain": [
       "array([3.33354032e-02, 3.33752721e-03, 3.68664095e-04, 1.42573011e-02,\n",
       "       1.49307261e-02, 9.98858295e-01, 9.78089004e-01, 9.99765921e-01,\n",
       "       9.99999992e-01, 9.88825739e-01])"
      ]
     },
     "execution_count": 7,
     "metadata": {},
     "output_type": "execute_result"
    }
   ],
   "source": [
    "predicted = predicted.reshape(-1)\n",
    "predicted"
   ]
  },
  {
   "cell_type": "code",
   "execution_count": 8,
   "metadata": {},
   "outputs": [
    {
     "name": "stdout",
     "output_type": "stream",
     "text": [
      "predicted: 0.033, expected: 0 abs(diff): 0.033\n",
      "predicted: 0.003, expected: 0 abs(diff): 0.003\n",
      "predicted: 0.000, expected: 0 abs(diff): 0.000\n",
      "predicted: 0.014, expected: 0 abs(diff): 0.014\n",
      "predicted: 0.015, expected: 0 abs(diff): 0.015\n",
      "predicted: 0.999, expected: 1 abs(diff): 0.001\n",
      "predicted: 0.978, expected: 1 abs(diff): 0.022\n",
      "predicted: 1.000, expected: 1 abs(diff): 0.000\n",
      "predicted: 1.000, expected: 1 abs(diff): 0.000\n",
      "predicted: 0.989, expected: 1 abs(diff): 0.011\n"
     ]
    }
   ],
   "source": [
    "for pred, expect in zip(predicted, y_train):\n",
    "    print(\"predicted: %.3f, expected: %d abs(diff): %.3f\" % (pred, expect, np.abs(pred - expect)))\n"
   ]
  }
 ],
 "metadata": {
  "kernelspec": {
   "display_name": "Py39Common",
   "language": "python",
   "name": "python3"
  },
  "language_info": {
   "codemirror_mode": {
    "name": "ipython",
    "version": 3
   },
   "file_extension": ".py",
   "mimetype": "text/x-python",
   "name": "python",
   "nbconvert_exporter": "python",
   "pygments_lexer": "ipython3",
   "version": "3.9.6"
  }
 },
 "nbformat": 4,
 "nbformat_minor": 2
}

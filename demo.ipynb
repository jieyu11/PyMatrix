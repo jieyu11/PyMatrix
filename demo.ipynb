{
 "cells": [
  {
   "cell_type": "code",
   "execution_count": 1,
   "metadata": {},
   "outputs": [],
   "source": [
    "from nn import Linear, Sigmoid, Relu\n",
    "from loss import BinaryCrossEntropyLoss, MSELoss\n",
    "from network import NeuralNet\n",
    "import numpy as np\n",
    "import logging\n",
    "logging.basicConfig(format=\"%(asctime)s %(levelname)s: %(message)s\",\n",
    "                    level=logging.INFO)\n",
    "logger = logging.getLogger(__name__)"
   ]
  },
  {
   "cell_type": "code",
   "execution_count": 2,
   "metadata": {},
   "outputs": [],
   "source": [
    "# X_train = np.array([[0,0], [0,1], [1,0], [1,1]])\n",
    "# y_train = np.array([0, 1, 1, 0])\n",
    "\n",
    "X_train = np.array(\n",
    "    [[2.7810836,2.55053003],\n",
    "    [1.46548937,2.36212507],\n",
    "    [3.39656168,4.40029352],\n",
    "    [1.38807019,1.85022031],\n",
    "    [3.06407232,3.00530597],\n",
    "    [7.62753121,2.75926223],\n",
    "    [5.33244124,2.08862677],\n",
    "    [6.92259671,1.77106367],\n",
    "    [8.67541865,-0.2420686],\n",
    "    [7.67375646,3.50856301]]    \n",
    ")\n",
    "\n",
    "y_train = np.array([0, 0, 0, 0, 0, 1, 1, 1, 1, 1])\n"
   ]
  },
  {
   "cell_type": "code",
   "execution_count": 3,
   "metadata": {},
   "outputs": [],
   "source": [
    "learning_rate = 0.01\n",
    "net = NeuralNet()\n",
    "net.add_layer(Linear(2, 3, learning_rate))\n",
    "net.add_layer(Relu())\n",
    "net.add_layer(Linear(3, 1, learning_rate))\n",
    "# net.add_layer(Linear(2, 1, learning_rate))\n",
    "net.add_layer(Sigmoid())"
   ]
  },
  {
   "cell_type": "code",
   "execution_count": 4,
   "metadata": {},
   "outputs": [],
   "source": [
    "net.loss = BinaryCrossEntropyLoss()\n",
    "# net.loss = MSELoss()"
   ]
  },
  {
   "cell_type": "code",
   "execution_count": 5,
   "metadata": {},
   "outputs": [
    {
     "name": "stderr",
     "output_type": "stream",
     "text": [
      "2024-03-08 10:59:33,219 INFO: Running epoch:    0\n",
      "2024-03-08 10:59:33,223 INFO: Epoch: 0, Loss:        0.633\n",
      "\n",
      "2024-03-08 10:59:33,278 INFO: Running epoch:  100\n",
      "2024-03-08 10:59:33,280 INFO: Epoch: 100, Loss:        0.194\n",
      "\n",
      "2024-03-08 10:59:33,349 INFO: Running epoch:  200\n",
      "2024-03-08 10:59:33,354 INFO: Epoch: 200, Loss:        0.119\n",
      "\n",
      "2024-03-08 10:59:33,394 INFO: Running epoch:  300\n",
      "2024-03-08 10:59:33,395 INFO: Epoch: 300, Loss:        0.083\n",
      "\n",
      "2024-03-08 10:59:33,433 INFO: Running epoch:  400\n",
      "2024-03-08 10:59:33,434 INFO: Epoch: 400, Loss:        0.063\n",
      "\n",
      "2024-03-08 10:59:33,473 INFO: Running epoch:  500\n",
      "2024-03-08 10:59:33,474 INFO: Epoch: 500, Loss:        0.051\n",
      "\n",
      "2024-03-08 10:59:33,509 INFO: Running epoch:  600\n",
      "2024-03-08 10:59:33,510 INFO: Epoch: 600, Loss:        0.042\n",
      "\n",
      "2024-03-08 10:59:33,552 INFO: Running epoch:  700\n",
      "2024-03-08 10:59:33,552 INFO: Epoch: 700, Loss:        0.036\n",
      "\n",
      "2024-03-08 10:59:33,587 INFO: Running epoch:  800\n",
      "2024-03-08 10:59:33,587 INFO: Epoch: 800, Loss:        0.031\n",
      "\n",
      "2024-03-08 10:59:33,628 INFO: Running epoch:  900\n",
      "2024-03-08 10:59:33,629 INFO: Epoch: 900, Loss:        0.027\n",
      "\n",
      "2024-03-08 10:59:33,669 INFO: Trained model!\n"
     ]
    }
   ],
   "source": [
    "net.train(X_train, y_train, n_epoch=1000)"
   ]
  },
  {
   "cell_type": "code",
   "execution_count": 6,
   "metadata": {},
   "outputs": [
    {
     "name": "stderr",
     "output_type": "stream",
     "text": [
      "2024-03-08 10:59:33,673 INFO: Number of test data: 10\n",
      "2024-03-08 10:59:33,674 INFO: Error of test data:        0.020\n"
     ]
    }
   ],
   "source": [
    "predicted = net.test(X_train, y_train)"
   ]
  },
  {
   "cell_type": "code",
   "execution_count": 7,
   "metadata": {},
   "outputs": [
    {
     "data": {
      "text/plain": [
       "array([0.03430282, 0.03295342, 0.03092   , 0.03404082, 0.03361808,\n",
       "       1.        , 0.99999991, 1.        , 1.        , 0.96517993])"
      ]
     },
     "execution_count": 7,
     "metadata": {},
     "output_type": "execute_result"
    }
   ],
   "source": [
    "predicted = predicted.reshape(-1)\n",
    "predicted"
   ]
  },
  {
   "cell_type": "code",
   "execution_count": 8,
   "metadata": {},
   "outputs": [
    {
     "name": "stdout",
     "output_type": "stream",
     "text": [
      "predicted: 0.034, expected: 0 abs(diff): 0.034\n",
      "predicted: 0.033, expected: 0 abs(diff): 0.033\n",
      "predicted: 0.031, expected: 0 abs(diff): 0.031\n",
      "predicted: 0.034, expected: 0 abs(diff): 0.034\n",
      "predicted: 0.034, expected: 0 abs(diff): 0.034\n",
      "predicted: 1.000, expected: 1 abs(diff): 0.000\n",
      "predicted: 1.000, expected: 1 abs(diff): 0.000\n",
      "predicted: 1.000, expected: 1 abs(diff): 0.000\n",
      "predicted: 1.000, expected: 1 abs(diff): 0.000\n",
      "predicted: 0.965, expected: 1 abs(diff): 0.035\n"
     ]
    }
   ],
   "source": [
    "for pred, expect in zip(predicted, y_train):\n",
    "    print(\"predicted: %.3f, expected: %d abs(diff): %.3f\" % (pred, expect, np.abs(pred - expect)))\n"
   ]
  }
 ],
 "metadata": {
  "kernelspec": {
   "display_name": "Py39Common",
   "language": "python",
   "name": "python3"
  },
  "language_info": {
   "codemirror_mode": {
    "name": "ipython",
    "version": 3
   },
   "file_extension": ".py",
   "mimetype": "text/x-python",
   "name": "python",
   "nbconvert_exporter": "python",
   "pygments_lexer": "ipython3",
   "version": "3.9.6"
  }
 },
 "nbformat": 4,
 "nbformat_minor": 2
}

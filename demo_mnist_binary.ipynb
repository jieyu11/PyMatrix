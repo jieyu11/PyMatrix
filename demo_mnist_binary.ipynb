{
 "cells": [
  {
   "cell_type": "code",
   "execution_count": 1,
   "metadata": {},
   "outputs": [],
   "source": [
    "from nn import Linear, Sigmoid, Relu\n",
    "from loss import BinaryCrossEntropyLoss\n",
    "from network import NeuralNet\n",
    "import numpy as np\n",
    "import logging\n",
    "logging.basicConfig(format=\"%(asctime)s %(levelname)s: %(message)s\",\n",
    "                    level=logging.INFO)\n",
    "logger = logging.getLogger(__name__)"
   ]
  },
  {
   "cell_type": "code",
   "execution_count": 2,
   "metadata": {},
   "outputs": [
    {
     "name": "stderr",
     "output_type": "stream",
     "text": [
      "/Users/universe_bright/Workarea/PythonEnvironments/Py39Common/lib/python3.9/site-packages/urllib3/__init__.py:34: NotOpenSSLWarning: urllib3 v2 only supports OpenSSL 1.1.1+, currently the 'ssl' module is compiled with 'LibreSSL 2.8.3'. See: https://github.com/urllib3/urllib3/issues/3020\n",
      "  warnings.warn(\n"
     ]
    }
   ],
   "source": [
    "from keras.datasets import mnist\n"
   ]
  },
  {
   "cell_type": "code",
   "execution_count": 3,
   "metadata": {},
   "outputs": [
    {
     "name": "stdout",
     "output_type": "stream",
     "text": [
      "X_train: (60000, 28, 28)\n",
      "Y_train: (60000,)\n",
      "X_test:  (10000, 28, 28)\n",
      "Y_test:  (10000,)\n"
     ]
    }
   ],
   "source": [
    "(train_X, train_y), (test_X, test_y) = mnist.load_data()\n",
    "print('X_train: ' + str(train_X.shape))\n",
    "print('Y_train: ' + str(train_y.shape))\n",
    "print('X_test:  '  + str(test_X.shape))\n",
    "print('Y_test:  '  + str(test_y.shape))"
   ]
  },
  {
   "cell_type": "code",
   "execution_count": 4,
   "metadata": {},
   "outputs": [],
   "source": [
    "# select class 0 and 1 only for binary classification\n",
    "train_X = train_X[(train_y <= 1)]\n",
    "train_y = train_y[(train_y <= 1)]\n",
    "test_X = test_X[(test_y <= 1)]\n",
    "test_y = test_y[(test_y <= 1)]"
   ]
  },
  {
   "cell_type": "code",
   "execution_count": 5,
   "metadata": {},
   "outputs": [],
   "source": [
    "# flatten 28 x 28 images to 748 array\n",
    "train_X = train_X.reshape(len(train_X), -1)\n",
    "test_X = test_X.reshape(len(test_X), -1)\n"
   ]
  },
  {
   "cell_type": "code",
   "execution_count": 6,
   "metadata": {},
   "outputs": [],
   "source": [
    "train_X = train_X / 255.\n",
    "test_X = test_X / 255."
   ]
  },
  {
   "cell_type": "code",
   "execution_count": 7,
   "metadata": {},
   "outputs": [],
   "source": [
    "train_y = train_y.astype(float)\n",
    "test_y = test_y.astype(float)"
   ]
  },
  {
   "cell_type": "code",
   "execution_count": 8,
   "metadata": {},
   "outputs": [
    {
     "data": {
      "text/plain": [
       "(12665, 2115)"
      ]
     },
     "execution_count": 8,
     "metadata": {},
     "output_type": "execute_result"
    }
   ],
   "source": [
    "len(train_y), len(test_y)"
   ]
  },
  {
   "cell_type": "code",
   "execution_count": 9,
   "metadata": {},
   "outputs": [
    {
     "name": "stdout",
     "output_type": "stream",
     "text": [
      "Dimensions, X 784\n"
     ]
    }
   ],
   "source": [
    "nd_X = len(train_X[0])\n",
    "print(f\"Dimensions, X {nd_X}\")\n",
    "learning_rate = 0.01\n",
    "net = NeuralNet()\n",
    "net.add_layer(Linear(nd_X, 64, learning_rate))\n",
    "net.add_layer(Relu())\n",
    "net.add_layer(Linear(64, 24, learning_rate))\n",
    "net.add_layer(Relu())\n",
    "net.add_layer(Linear(24, 1, learning_rate))\n",
    "net.add_layer(Sigmoid())"
   ]
  },
  {
   "cell_type": "code",
   "execution_count": 10,
   "metadata": {},
   "outputs": [],
   "source": [
    "net.loss = BinaryCrossEntropyLoss()"
   ]
  },
  {
   "cell_type": "code",
   "execution_count": 11,
   "metadata": {},
   "outputs": [
    {
     "name": "stderr",
     "output_type": "stream",
     "text": [
      "2024-03-08 22:03:50,244 INFO: Running epoch:    0\n",
      "2024-03-08 22:03:52,537 INFO: Epoch: 0, Loss:     0.058016\n",
      "\n",
      "2024-03-08 22:03:54,609 INFO: Running epoch:    2\n",
      "2024-03-08 22:03:56,871 INFO: Epoch: 2, Loss:     0.004719\n",
      "\n",
      "2024-03-08 22:03:58,990 INFO: Running epoch:    4\n",
      "2024-03-08 22:04:01,249 INFO: Epoch: 4, Loss:     0.001333\n",
      "\n",
      "2024-03-08 22:04:03,391 INFO: Running epoch:    6\n",
      "2024-03-08 22:04:05,461 INFO: Epoch: 6, Loss:     0.000773\n",
      "\n",
      "2024-03-08 22:04:07,559 INFO: Running epoch:    8\n",
      "2024-03-08 22:04:09,745 INFO: Epoch: 8, Loss:     0.000171\n",
      "\n",
      "2024-03-08 22:04:11,895 INFO: Running epoch:   10\n",
      "2024-03-08 22:04:14,094 INFO: Epoch: 10, Loss:     0.000108\n",
      "\n",
      "2024-03-08 22:04:16,205 INFO: Running epoch:   12\n",
      "2024-03-08 22:04:18,319 INFO: Epoch: 12, Loss:     0.000113\n",
      "\n",
      "2024-03-08 22:04:20,524 INFO: Running epoch:   14\n",
      "2024-03-08 22:04:22,611 INFO: Epoch: 14, Loss:     0.000064\n",
      "\n",
      "2024-03-08 22:04:24,742 INFO: Running epoch:   16\n",
      "2024-03-08 22:04:26,911 INFO: Epoch: 16, Loss:     0.000038\n",
      "\n",
      "2024-03-08 22:04:28,992 INFO: Running epoch:   18\n",
      "2024-03-08 22:04:31,152 INFO: Epoch: 18, Loss:     0.000030\n",
      "\n",
      "2024-03-08 22:04:33,360 INFO: Trained model!\n"
     ]
    }
   ],
   "source": [
    "net.train(train_X, train_y, n_epoch=20)"
   ]
  },
  {
   "cell_type": "code",
   "execution_count": 12,
   "metadata": {},
   "outputs": [
    {
     "name": "stderr",
     "output_type": "stream",
     "text": [
      "2024-03-08 22:04:33,370 INFO: Number of test data: 2115\n",
      "2024-03-08 22:04:33,553 INFO: Error of test data:        0.004\n"
     ]
    },
    {
     "data": {
      "text/plain": [
       "(2115, 1)"
      ]
     },
     "execution_count": 12,
     "metadata": {},
     "output_type": "execute_result"
    }
   ],
   "source": [
    "predicted = net.test(test_X, test_y)\n",
    "predicted.shape\n"
   ]
  },
  {
   "cell_type": "code",
   "execution_count": 13,
   "metadata": {},
   "outputs": [
    {
     "data": {
      "text/plain": [
       "array([1.])"
      ]
     },
     "execution_count": 13,
     "metadata": {},
     "output_type": "execute_result"
    }
   ],
   "source": [
    "predicted[0]"
   ]
  },
  {
   "cell_type": "code",
   "execution_count": 14,
   "metadata": {},
   "outputs": [
    {
     "data": {
      "text/plain": [
       "1.0"
      ]
     },
     "execution_count": 14,
     "metadata": {},
     "output_type": "execute_result"
    }
   ],
   "source": [
    "predicted = predicted.reshape(len(predicted))\n",
    "predicted[0]"
   ]
  },
  {
   "cell_type": "code",
   "execution_count": 15,
   "metadata": {},
   "outputs": [],
   "source": [
    "from sklearn.metrics import accuracy_score, precision_score, recall_score\n"
   ]
  },
  {
   "cell_type": "code",
   "execution_count": 16,
   "metadata": {},
   "outputs": [
    {
     "data": {
      "text/plain": [
       "(2115, 2115)"
      ]
     },
     "execution_count": 16,
     "metadata": {},
     "output_type": "execute_result"
    }
   ],
   "source": [
    "len(test_y), len(predicted)"
   ]
  },
  {
   "cell_type": "code",
   "execution_count": 17,
   "metadata": {},
   "outputs": [
    {
     "data": {
      "text/plain": [
       "(array([1., 0., 1., 0., 0., 1., 0., 0., 1., 1.]),\n",
       " array([1.00000000e+00, 2.86051719e-15, 1.00000000e+00, 4.09200846e-19,\n",
       "        4.03940878e-21, 1.00000000e+00, 9.11934690e-38, 5.16441319e-13,\n",
       "        1.00000000e+00, 1.00000000e+00]))"
      ]
     },
     "execution_count": 17,
     "metadata": {},
     "output_type": "execute_result"
    }
   ],
   "source": [
    "test_y[0:10], predicted[0:10]"
   ]
  },
  {
   "cell_type": "code",
   "execution_count": 18,
   "metadata": {},
   "outputs": [
    {
     "data": {
      "text/plain": [
       "array([1, 0, 1, 0, 0, 1, 0, 0, 1, 1])"
      ]
     },
     "execution_count": 18,
     "metadata": {},
     "output_type": "execute_result"
    }
   ],
   "source": [
    "y_predicted = (predicted > 0.5).astype(int)\n",
    "y_predicted[0:10]"
   ]
  },
  {
   "cell_type": "code",
   "execution_count": 19,
   "metadata": {},
   "outputs": [
    {
     "data": {
      "text/plain": [
       "{'accuracy': 0.9990543735224586,\n",
       " 'precision': 0.9991189427312775,\n",
       " 'recall': 0.9991189427312775}"
      ]
     },
     "execution_count": 19,
     "metadata": {},
     "output_type": "execute_result"
    }
   ],
   "source": [
    "result = {\n",
    "    \"accuracy\": accuracy_score(test_y, y_predicted),\n",
    "    \"precision\": precision_score(test_y, y_predicted),\n",
    "    \"recall\": recall_score(test_y, y_predicted)\n",
    "}\n",
    "result"
   ]
  }
 ],
 "metadata": {
  "kernelspec": {
   "display_name": "Py39Common",
   "language": "python",
   "name": "python3"
  },
  "language_info": {
   "codemirror_mode": {
    "name": "ipython",
    "version": 3
   },
   "file_extension": ".py",
   "mimetype": "text/x-python",
   "name": "python",
   "nbconvert_exporter": "python",
   "pygments_lexer": "ipython3",
   "version": "3.9.6"
  }
 },
 "nbformat": 4,
 "nbformat_minor": 2
}

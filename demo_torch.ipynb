{
 "cells": [
  {
   "cell_type": "code",
   "execution_count": 1,
   "metadata": {},
   "outputs": [],
   "source": [
    "import torch\n",
    "import torch.nn as nn\n",
    "import torch.nn.functional as F\n",
    "import numpy as np\n",
    "import logging\n",
    "logging.basicConfig(format=\"%(asctime)s %(levelname)s: %(message)s\",\n",
    "                    level=logging.INFO)\n",
    "logger = logging.getLogger(__name__)"
   ]
  },
  {
   "cell_type": "code",
   "execution_count": 2,
   "metadata": {},
   "outputs": [],
   "source": [
    "# X_train = np.array([[0,0], [0,1], [1,0], [1,1]])\n",
    "# y_train = np.array([0, 1, 1, 0])\n",
    "\n",
    "X_train = np.array(\n",
    "    [[2.7810836,2.55053003],\n",
    "    [1.46548937,2.36212507],\n",
    "    [3.39656168,4.40029352],\n",
    "    [1.38807019,1.85022031],\n",
    "    [3.06407232,3.00530597],\n",
    "    [7.62753121,2.75926223],\n",
    "    [5.33244124,2.08862677],\n",
    "    [6.92259671,1.77106367],\n",
    "    [8.67541865,-0.2420686],\n",
    "    [7.67375646,3.50856301]]    \n",
    ")\n",
    "\n",
    "y_train = np.array([0, 0, 0, 0, 0, 1, 1, 1, 1, 1])\n"
   ]
  },
  {
   "cell_type": "code",
   "execution_count": 3,
   "metadata": {},
   "outputs": [],
   "source": [
    "X_train = torch.tensor(X_train, dtype=torch.float32)\n",
    "y_train = torch.tensor(y_train, dtype=torch.float32).reshape(-1, 1)"
   ]
  },
  {
   "cell_type": "code",
   "execution_count": 4,
   "metadata": {},
   "outputs": [
    {
     "data": {
      "text/plain": [
       "(torch.Size([10, 2]), torch.Size([10, 1]))"
      ]
     },
     "execution_count": 4,
     "metadata": {},
     "output_type": "execute_result"
    }
   ],
   "source": [
    "X_train.shape, y_train.shape"
   ]
  },
  {
   "cell_type": "code",
   "execution_count": 5,
   "metadata": {},
   "outputs": [],
   "source": [
    "class NeuralNet(nn.Module):\n",
    "    def __init__(self):\n",
    "        super().__init__()\n",
    "        self.fc1 = nn.Linear(2, 3)\n",
    "        self.fc2 = nn.Linear(3, 1)\n",
    "\n",
    "    # x represents our data\n",
    "    def forward(self, x):\n",
    "        x = self.fc1(x)\n",
    "        x = F.relu(x)\n",
    "        x = self.fc2(x)\n",
    "        output = F.sigmoid(x)\n",
    "        return output"
   ]
  },
  {
   "cell_type": "code",
   "execution_count": 6,
   "metadata": {},
   "outputs": [],
   "source": [
    "learning_rate = 0.01\n",
    "net = NeuralNet()"
   ]
  },
  {
   "cell_type": "code",
   "execution_count": 7,
   "metadata": {},
   "outputs": [
    {
     "name": "stderr",
     "output_type": "stream",
     "text": [
      "/Users/universe_bright/Workarea/PythonEnvironments/Py39Common/lib/python3.9/site-packages/urllib3/__init__.py:34: NotOpenSSLWarning: urllib3 v2 only supports OpenSSL 1.1.1+, currently the 'ssl' module is compiled with 'LibreSSL 2.8.3'. See: https://github.com/urllib3/urllib3/issues/3020\n",
      "  warnings.warn(\n"
     ]
    }
   ],
   "source": [
    "criterion = nn.BCELoss()\n",
    "optimizer = torch.optim.SGD(net.parameters(), lr=0.1)"
   ]
  },
  {
   "cell_type": "code",
   "execution_count": 8,
   "metadata": {},
   "outputs": [
    {
     "name": "stdout",
     "output_type": "stream",
     "text": [
      "Finished epoch 0, latest loss 0.5722610950469971\n",
      "Finished epoch 1, latest loss 0.47022828459739685\n",
      "Finished epoch 2, latest loss 0.42164814472198486\n",
      "Finished epoch 3, latest loss 0.3662557899951935\n",
      "Finished epoch 4, latest loss 0.3137175142765045\n",
      "Finished epoch 5, latest loss 0.26020094752311707\n",
      "Finished epoch 6, latest loss 0.23127485811710358\n",
      "Finished epoch 7, latest loss 0.20506225526332855\n",
      "Finished epoch 8, latest loss 0.18256020545959473\n",
      "Finished epoch 9, latest loss 0.16337475180625916\n"
     ]
    }
   ],
   "source": [
    "n_epochs = 10\n",
    "batch_size = 1\n",
    "for epoch in range(n_epochs):\n",
    "    avg_loss = 0\n",
    "    for i in range(0, len(X_train), batch_size):\n",
    "        Xbatch = X_train[i:i+batch_size]\n",
    "        y_pred = net(Xbatch)\n",
    "        y_true = y_train[i:i+batch_size]\n",
    "        loss = criterion(y_pred, y_true)\n",
    "        optimizer.zero_grad()\n",
    "        loss.backward()\n",
    "        optimizer.step()\n",
    "        avg_loss += loss.data / len(X_train)\n",
    "    print(f'Finished epoch {epoch}, latest loss {avg_loss}')"
   ]
  },
  {
   "cell_type": "code",
   "execution_count": 9,
   "metadata": {},
   "outputs": [
    {
     "name": "stdout",
     "output_type": "stream",
     "text": [
      "predicted: 0.292, expected: 0 abs(diff): 0.292\n",
      "predicted: 0.223, expected: 0 abs(diff): 0.223\n",
      "predicted: 0.223, expected: 0 abs(diff): 0.223\n",
      "predicted: 0.223, expected: 0 abs(diff): 0.223\n",
      "predicted: 0.259, expected: 0 abs(diff): 0.259\n",
      "predicted: 0.993, expected: 1 abs(diff): 0.007\n",
      "predicted: 0.945, expected: 1 abs(diff): 0.055\n",
      "predicted: 0.995, expected: 1 abs(diff): 0.005\n",
      "predicted: 1.000, expected: 1 abs(diff): 0.000\n",
      "predicted: 0.985, expected: 1 abs(diff): 0.015\n"
     ]
    }
   ],
   "source": [
    "net.eval();\n",
    "with torch.no_grad():\n",
    "    pred = net(X_train)\n",
    "    pred = pred.detach().cpu().numpy().reshape(-1)\n",
    "    truth = y_train.detach().cpu().numpy().reshape(-1)\n",
    "    for p, e in zip(pred, truth):\n",
    "        print(\"predicted: %.3f, expected: %d abs(diff): %.3f\" % (p, e, np.abs(p - e)))\n",
    " "
   ]
  }
 ],
 "metadata": {
  "kernelspec": {
   "display_name": "Py39Common",
   "language": "python",
   "name": "python3"
  },
  "language_info": {
   "codemirror_mode": {
    "name": "ipython",
    "version": 3
   },
   "file_extension": ".py",
   "mimetype": "text/x-python",
   "name": "python",
   "nbconvert_exporter": "python",
   "pygments_lexer": "ipython3",
   "version": "3.9.6"
  }
 },
 "nbformat": 4,
 "nbformat_minor": 2
}
